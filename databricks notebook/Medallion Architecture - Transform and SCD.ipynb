{
 "cells": [
  {
   "cell_type": "code",
   "execution_count": 0,
   "metadata": {
    "application/vnd.databricks.v1+cell": {
     "cellMetadata": {
      "byteLimit": 2048000,
      "implicitDf": true,
      "rowLimit": 10000
     },
     "inputWidgets": {},
     "nuid": "98b74a98-1946-4e67-965a-c4f226d65f17",
     "showTitle": false,
     "tableResultSettingsMap": {},
     "title": ""
    }
   },
   "outputs": [],
   "source": [
    "%sql\n",
    "USE CATALOG onlineretail;\n",
    "CREATE SCHEMA IF NOT EXISTS bronze;"
   ]
  },
  {
   "cell_type": "code",
   "execution_count": 0,
   "metadata": {
    "application/vnd.databricks.v1+cell": {
     "cellMetadata": {
      "byteLimit": 2048000,
      "implicitDf": true,
      "rowLimit": 10000
     },
     "inputWidgets": {},
     "nuid": "e7cba607-aa48-4d8b-b575-b131ec0e02d6",
     "showTitle": false,
     "tableResultSettingsMap": {},
     "title": ""
    }
   },
   "outputs": [],
   "source": [
    "%sql\n",
    "USE CATALOG onlineretail;\n",
    "CREATE SCHEMA IF NOT EXISTS log;"
   ]
  },
  {
   "cell_type": "code",
   "execution_count": 0,
   "metadata": {
    "application/vnd.databricks.v1+cell": {
     "cellMetadata": {
      "byteLimit": 2048000,
      "implicitDf": true,
      "rowLimit": 10000
     },
     "inputWidgets": {},
     "nuid": "4a2fe680-521b-4904-a5ce-033d8c5ffb0a",
     "showTitle": false,
     "tableResultSettingsMap": {},
     "title": ""
    }
   },
   "outputs": [],
   "source": [
    "%sql\n",
    "USE CATALOG onlineretail;\n",
    "\n",
    "CREATE TABLE IF NOT EXISTS log.control (\n",
    "  PROCESS_NAME STRING,\n",
    "  LAYER STRING,\n",
    "  TABLE_NAME STRING,\n",
    "  STATUS STRING,\n",
    "  INGESTED_TIMESTAMP TIMESTAMP,\n",
    "  LAST_UPDATED_TIMESTAMP TIMESTAMP\n",
    ")\n",
    "USING DELTA\n",
    "LOCATION 'abfss://log@adlsonlineretailshrey.dfs.core.windows.net/control'"
   ]
  },
  {
   "cell_type": "markdown",
   "metadata": {
    "application/vnd.databricks.v1+cell": {
     "cellMetadata": {},
     "inputWidgets": {},
     "nuid": "dedbbcdb-a4f0-4ed3-9d73-e4e0551c80f7",
     "showTitle": false,
     "tableResultSettingsMap": {},
     "title": ""
    }
   },
   "source": [
    "Customer File"
   ]
  },
  {
   "cell_type": "code",
   "execution_count": 0,
   "metadata": {
    "application/vnd.databricks.v1+cell": {
     "cellMetadata": {
      "byteLimit": 2048000,
      "rowLimit": 10000
     },
     "inputWidgets": {},
     "nuid": "0cd22c43-1b4c-48a0-aea9-d3d8071c87da",
     "showTitle": false,
     "tableResultSettingsMap": {},
     "title": ""
    }
   },
   "outputs": [],
   "source": [
    "\n",
    "\n",
    "df_customer =  (\n",
    "    spark\n",
    "    .read\n",
    "    .format('parquet')\n",
    "    .option('header', True)\n",
    "    .option('inferSchema', True)\n",
    "    .load(\"abfss://bronze@adlsonlineretailshrey.dfs.core.windows.net/customer\")\n",
    ")"
   ]
  },
  {
   "cell_type": "code",
   "execution_count": 0,
   "metadata": {
    "application/vnd.databricks.v1+cell": {
     "cellMetadata": {
      "byteLimit": 2048000,
      "rowLimit": 10000
     },
     "inputWidgets": {},
     "nuid": "78b5f122-cf47-4235-bd70-f0ec928d5c12",
     "showTitle": false,
     "tableResultSettingsMap": {},
     "title": ""
    }
   },
   "outputs": [],
   "source": [
    "df_customer = df_customer.dropDuplicates()"
   ]
  },
  {
   "cell_type": "code",
   "execution_count": 0,
   "metadata": {
    "application/vnd.databricks.v1+cell": {
     "cellMetadata": {
      "byteLimit": 2048000,
      "rowLimit": 10000
     },
     "inputWidgets": {},
     "nuid": "4e87c1f5-a4ec-41db-8dad-0b8010f574fc",
     "showTitle": false,
     "tableResultSettingsMap": {},
     "title": ""
    }
   },
   "outputs": [],
   "source": [
    "df_customer.createOrReplaceTempView(\"df_customer_stage1\")"
   ]
  },
  {
   "cell_type": "code",
   "execution_count": 0,
   "metadata": {
    "application/vnd.databricks.v1+cell": {
     "cellMetadata": {
      "byteLimit": 2048000,
      "implicitDf": true,
      "rowLimit": 10000
     },
     "inputWidgets": {},
     "nuid": "a876f866-5c41-42d1-a332-42362204319d",
     "showTitle": false,
     "tableResultSettingsMap": {},
     "title": ""
    }
   },
   "outputs": [],
   "source": [
    "%sql\n",
    "CREATE TABLE IF NOT EXISTS onlineretail.bronze.dim_customers (\n",
    "  customer_id STRING,\n",
    "  customer_name STRING,\n",
    "  firstname STRING,\n",
    "  lastname STRING,\n",
    "  gender STRING,\n",
    "  city STRING,\n",
    "  loyalty_status STRING,\n",
    "  effective_start_date STRING,\n",
    "  effective_end_date STRING,\n",
    "  is_active STRING,\n",
    "  ingested_date TIMESTAMP,\n",
    "  last_updated_date TIMESTAMP\n",
    ")\n",
    "USING DELTA\n",
    "LOCATION 'abfss://bronze@adlsonlineretailshrey.dfs.core.windows.net/delta/customer'\n",
    "    "
   ]
  },
  {
   "cell_type": "code",
   "execution_count": 0,
   "metadata": {
    "application/vnd.databricks.v1+cell": {
     "cellMetadata": {
      "byteLimit": 2048000,
      "implicitDf": true,
      "rowLimit": 10000
     },
     "inputWidgets": {},
     "nuid": "63932263-346b-41e7-be6f-8ab039daa9a0",
     "showTitle": false,
     "tableResultSettingsMap": {},
     "title": ""
    }
   },
   "outputs": [],
   "source": [
    "%sql\n",
    "INSERT INTO onlineretail.bronze.dim_customers (\n",
    "    customer_id,\n",
    "    customer_name,\n",
    "    firstname,\n",
    "    lastname,\n",
    "    gender,\n",
    "    city,\n",
    "    loyalty_status,\n",
    "    effective_start_date,\n",
    "    effective_end_date,\n",
    "    is_active,\n",
    "    ingested_date,\n",
    "    last_updated_date\n",
    ")\n",
    "SELECT \n",
    "    customer_id, \n",
    "    customer_name,\n",
    "    substring(customer_name,1,instr(customer_name,' ')) as firstname,\n",
    "    substring(customer_name,instr(customer_name,' ')+1,length(customer_name)) as lastname,\n",
    "    gender,\n",
    "    city,\n",
    "    loyalty_status,\n",
    "    effective_start_date,\n",
    "    effective_end_date,\n",
    "    is_active,\n",
    "    current_timestamp() as ingested_date,\n",
    "    current_timestamp() as last_updated_date \n",
    "FROM df_customer_stage1;\n"
   ]
  },
  {
   "cell_type": "code",
   "execution_count": 0,
   "metadata": {
    "application/vnd.databricks.v1+cell": {
     "cellMetadata": {
      "byteLimit": 2048000,
      "rowLimit": 10000
     },
     "inputWidgets": {},
     "nuid": "cafe2918-44d1-4134-aa6f-3ebd70d9e739",
     "showTitle": false,
     "tableResultSettingsMap": {},
     "title": ""
    }
   },
   "outputs": [],
   "source": [
    "files = dbutils.fs.ls(\"abfss://bronze@adlsonlineretailshrey.dfs.core.windows.net/customer\")\n",
    "\n",
    "for file in files: \n",
    "  filename = file[1]\n",
    "  spark.sql(f\"\"\"\n",
    "  INSERT INTO onlineretail.log.control(PROCESS_NAME,LAYER,TABLE_NAME,STATUS,INGESTED_TIMESTAMP,LAST_UPDATED_TIMESTAMP) values('Ingestion-Customer','bronze','dim_customer','success',CURRENT_TIMESTAMP(),CURRENT_TIMESTAMP())\"\"\"\n",
    "  )\n",
    "  source = file[0]\n",
    "  destination = f\"abfss://bronze@adlsonlineretailshrey.dfs.core.windows.net/customer/archive/{filename}\"\n",
    "  dbutils.fs.mv(source,destination)\n"
   ]
  },
  {
   "cell_type": "code",
   "execution_count": 0,
   "metadata": {
    "application/vnd.databricks.v1+cell": {
     "cellMetadata": {},
     "inputWidgets": {},
     "nuid": "ef11c375-a571-4560-ae1c-3acf4ccd7c1e",
     "showTitle": false,
     "tableResultSettingsMap": {},
     "title": ""
    }
   },
   "outputs": [],
   "source": [
    "%sql\n",
    "USE CATALOG onlineretail;\n",
    "CREATE SCHEMA IF NOT EXISTS silver;\n",
    "\n",
    "\n",
    "CREATE TABLE IF NOT EXISTS onlineretail.silver.dim_customers (\n",
    "  customer_sk BIGINT GENERATED ALWAYS AS IDENTITY,\n",
    "  customer_id STRING,\n",
    "  customer_name STRING,\n",
    "  firstname STRING,\n",
    "  lastname STRING,\n",
    "  gender STRING,\n",
    "  city STRING,\n",
    "  loyalty_status STRING,\n",
    "  effective_start_date STRING,\n",
    "  effective_end_date STRING,\n",
    "  is_active STRING,\n",
    "  ingested_date TIMESTAMP,\n",
    "  last_updated_date TIMESTAMP\n",
    ")\n",
    "USING DELTA\n",
    "LOCATION 'abfss://silver@adlsonlineretailshrey.dfs.core.windows.net/delta/customer'\n"
   ]
  },
  {
   "cell_type": "markdown",
   "metadata": {
    "application/vnd.databricks.v1+cell": {
     "cellMetadata": {},
     "inputWidgets": {},
     "nuid": "8e3335af-4281-4127-9262-a91a9020968f",
     "showTitle": false,
     "tableResultSettingsMap": {},
     "title": ""
    }
   },
   "source": [
    "SCD Type 1"
   ]
  },
  {
   "cell_type": "code",
   "execution_count": 0,
   "metadata": {
    "application/vnd.databricks.v1+cell": {
     "cellMetadata": {},
     "inputWidgets": {},
     "nuid": "151b0555-bde3-4033-b105-44cfd009a9c7",
     "showTitle": false,
     "tableResultSettingsMap": {},
     "title": ""
    }
   },
   "outputs": [],
   "source": [
    "%sql\n",
    "merge into onlineretail.silver.dim_customers as target\n",
    "using onlineretail.bronze.dim_customers as source\n",
    "on target.customer_id = source.customer_id\n",
    "when matched then update set \n",
    "  target.customer_id = source.customer_id,\n",
    "  target.customer_name = source.customer_name,\n",
    "  target.firstname = source.firstname,\n",
    "  target.lastname = source.lastname,\n",
    "  target.gender = source.gender,\n",
    "  target.city = source.city,\n",
    "  target.loyalty_status = source.loyalty_status,\n",
    "  target.effective_start_date = source.effective_start_date,\n",
    "  target.effective_end_date = source.effective_end_date,\n",
    "  target.is_active = source.is_active,\n",
    "  target.ingested_date = current_timestamp(),\n",
    "  target.last_updated_date = current_timestamp()\n",
    "when not matched by target then \n",
    "insert (customer_id,\n",
    "  customer_name,\n",
    "  firstname,\n",
    "  lastname,\n",
    "  gender,\n",
    "  city,\n",
    "  loyalty_status,\n",
    "  effective_start_date,\n",
    "  effective_end_date,\n",
    "  is_active,\n",
    "  ingested_date,\n",
    "  last_updated_date\n",
    ") values (\n",
    "  source.customer_name,\n",
    "  source.firstname,\n",
    "  source.lastname,\n",
    "  source.gender,\n",
    "  source.city,\n",
    "  source.loyalty_status,\n",
    "  source.effective_start_date,\n",
    "  source.effective_end_date,\n",
    "  source.is_active,\n",
    "  current_timestamp(),\n",
    "  current_timestamp()\n",
    ")"
   ]
  },
  {
   "cell_type": "markdown",
   "metadata": {
    "application/vnd.databricks.v1+cell": {
     "cellMetadata": {},
     "inputWidgets": {},
     "nuid": "5a65aac4-fd72-4b72-8c53-cc26a948c7dd",
     "showTitle": false,
     "tableResultSettingsMap": {},
     "title": ""
    }
   },
   "source": [
    "SCD Type 2"
   ]
  },
  {
   "cell_type": "code",
   "execution_count": 0,
   "metadata": {
    "application/vnd.databricks.v1+cell": {
     "cellMetadata": {},
     "inputWidgets": {},
     "nuid": "f9ad6cfc-826d-43d5-a519-be4158aafe1f",
     "showTitle": false,
     "tableResultSettingsMap": {},
     "title": ""
    }
   },
   "outputs": [],
   "source": [
    "%sql\n",
    "merge into onlineretail.silver.dim_customer as target\n",
    "using onlineretail.bronze.dim_customer as source\n",
    "on target.customer_id = source.customer_id and target.is_active='Y'\n",
    "--case 1: customer exists in target table and needs to be updated as inactive\n",
    "when matched then update set \n",
    "  target.is_active = 'N',\n",
    "  target.effective_end_date = current_timestamp(),\n",
    "  target.last_updated_date = current_timestamp()\n",
    "--case 2: customer does exists in target table - new customer\n",
    "when not matched by target then \n",
    "insert (customer_id,\n",
    "  customer_name, \n",
    "  firstname,\n",
    "  lastname,\n",
    "  gender,\n",
    "  city,\n",
    "  loyalty_status,\n",
    "  effective_start_date,\n",
    "  effective_end_date,\n",
    "  is_active,\n",
    "  ingested_date,\n",
    "  last_updated_date\n",
    ") values (\n",
    "  source.customer_id,\n",
    "  source.customer_name, \n",
    "  source.firstname,\n",
    "  source.lastname,\n",
    "  source.gender,\n",
    "  source.city,\n",
    "  source.loyalty_status,\n",
    "  source.effective_start_date,\n",
    "  source.effective_end_date,\n",
    "  source.is_active,\n",
    "  current_timestamp(),\n",
    "  current_timestamp()\n",
    ");\n",
    "\n",
    "merge into onlineretail.silver.dim_customer as target\n",
    "using onlineretail.bronze.dim_customer as source\n",
    "on target.customer_id = source.customer_id and target.is_active='Y'\n",
    "--case 3: insert new rows for updated customers\n",
    "when not matched by target then\n",
    "insert (\n",
    "  customer_id,\n",
    "  customer_name,\n",
    "  firstname,\n",
    "  lastname,\n",
    "  gender,\n",
    "  city,\n",
    "  loyalty_status,\n",
    "  effective_start_date,\n",
    "  effective_end_date,\n",
    "  is_active,\n",
    "  ingested_date,\n",
    "  last_updated_date\n",
    ") values (\n",
    "  source.customer_name,\n",
    "  source.firstname,\n",
    "  source.lastname,\n",
    "  source.gender,\n",
    "  source.city,\n",
    "  source.loyalty_status,\n",
    "  source.effective_start_date,\n",
    "  source.effective_end_date,\n",
    "  source.is_active,\n",
    "  current_timestamp(),\n",
    "  current_timestamp()\n",
    ");\n"
   ]
  },
  {
   "cell_type": "code",
   "execution_count": 0,
   "metadata": {
    "application/vnd.databricks.v1+cell": {
     "cellMetadata": {},
     "inputWidgets": {},
     "nuid": "ec01042e-074d-4f03-a9f5-58348300825b",
     "showTitle": false,
     "tableResultSettingsMap": {},
     "title": ""
    }
   },
   "outputs": [],
   "source": [
    "%sql\n",
    "INSERT INTO onlineretail.log.control(FILE_NAME,PROCESS_NAME,LAYER,TABLE_NAME,STATUS,INGESTED_TIMESTAMP,LAST_UPDATED_TIMESTAMP) values('Ingestion-Customer','silver','dim_customer','success',CURRENT_TIMESTAMP(),CURRENT_TIMESTAMP())"
   ]
  },
  {
   "cell_type": "code",
   "execution_count": 0,
   "metadata": {
    "application/vnd.databricks.v1+cell": {
     "cellMetadata": {},
     "inputWidgets": {},
     "nuid": "fe88d003-2144-46c5-ad75-dd8571d90d26",
     "showTitle": false,
     "tableResultSettingsMap": {},
     "title": ""
    }
   },
   "outputs": [],
   "source": [
    "%sql\n",
    "USE CATALOG onlineretail;\n",
    "CREATE SCHEMA IF NOT EXISTS gold;\n",
    "\n",
    "\n",
    "CREATE TABLE IF NOT EXISTS onlineretail.gold.dim_customers (\n",
    "  customer_sk BIGINT GENERATED ALWAYS AS IDENTITY,\n",
    "  customer_id STRING,\n",
    "  customer_name STRING,\n",
    "  firstname STRING,\n",
    "  lastname STRING,\n",
    "  gender STRING,\n",
    "  city STRING,\n",
    "  loyalty_status STRING,\n",
    "  effective_start_date STRING,\n",
    "  effective_end_date STRING,\n",
    "  is_active STRING,\n",
    "  ingested_date TIMESTAMP,\n",
    "  last_updated_date TIMESTAMP\n",
    ")\n",
    "USING DELTA\n",
    "LOCATION 'abfss://gold@adlsonlineretailshrey.dfs.core.windows.net/delta/customer'\n"
   ]
  },
  {
   "cell_type": "code",
   "execution_count": 0,
   "metadata": {
    "application/vnd.databricks.v1+cell": {
     "cellMetadata": {},
     "inputWidgets": {},
     "nuid": "08a14fb1-a6e5-471f-9bed-c823df4980e7",
     "showTitle": false,
     "tableResultSettingsMap": {},
     "title": ""
    }
   },
   "outputs": [],
   "source": [
    "%sql\n",
    "merge into onlineretail.gold.dim_customers as target\n",
    "USING onlineretail.silver.dim_customers as source\n",
    "on target.customer_id = source.customer_id and source.is_active='Y'\n",
    "when matched then update set \n",
    "  target.customer_name = source.customer_name,\n",
    "  target.firstname = source.firstname,\n",
    "  target.lastname = source.lastname,\n",
    "  target.gender = source.gender,\n",
    "  target.city = source.city,\n",
    "  target.loyalty_status = source.loyalty_status,\n",
    "  target.effective_start_date = source.effective_start_date,\n",
    "  target.effective_end_date = NULL,\n",
    "  target.is_active = source.is_active,\n",
    "  target.last_updated_date = current_timestamp()\n",
    "  when not matched by target then \n",
    "insert (\n",
    "  customer_id,\n",
    "  customer_name,\n",
    "  firstname,\n",
    "  lastname,\n",
    "  gender,\n",
    "  city,\n",
    "  loyalty_status,\n",
    "  effective_start_date,\n",
    "  effective_end_date,\n",
    "  is_active,\n",
    "  ingested_date,\n",
    "  last_updated_date\n",
    ") values (\n",
    "  source.customer_id,\n",
    "  source.customer_name,\n",
    "  source.firstname,\n",
    "  source.lastname,\n",
    "  source.gender,\n",
    "  source.city,\n",
    "  source.loyalty_status,\n",
    "  source.effective_start_date,\n",
    "  source.effective_end_date,\n",
    "  source.is_active,\n",
    "  current_timestamp(),\n",
    "  current_timestamp()\n",
    ")"
   ]
  },
  {
   "cell_type": "code",
   "execution_count": 0,
   "metadata": {
    "application/vnd.databricks.v1+cell": {
     "cellMetadata": {},
     "inputWidgets": {},
     "nuid": "2a37258c-f820-4c3c-9932-2bc5db2b52a3",
     "showTitle": false,
     "tableResultSettingsMap": {},
     "title": ""
    }
   },
   "outputs": [],
   "source": [
    "%sql\n",
    "INSERT INTO onlineretail.log.control(FILE_NAME,PROCESS_NAME,LAYER,TABLE_NAME,STATUS,INGESTED_TIMESTAMP,LAST_UPDATED_TIMESTAMP) values('Ingestion-Customer','gold','dim_customer','success',CURRENT_TIMESTAMP(),CURRENT_TIMESTAMP())"
   ]
  },
  {
   "cell_type": "markdown",
   "metadata": {
    "application/vnd.databricks.v1+cell": {
     "cellMetadata": {},
     "inputWidgets": {},
     "nuid": "02ef30a6-c519-44ef-90ae-60c7e28ce80a",
     "showTitle": false,
     "tableResultSettingsMap": {},
     "title": ""
    }
   },
   "source": [
    "Product"
   ]
  },
  {
   "cell_type": "code",
   "execution_count": 0,
   "metadata": {
    "application/vnd.databricks.v1+cell": {
     "cellMetadata": {},
     "inputWidgets": {},
     "nuid": "797054d8-36bb-471e-a1eb-a77f4c6ddca4",
     "showTitle": false,
     "tableResultSettingsMap": {},
     "title": ""
    }
   },
   "outputs": [],
   "source": [
    "df_product = (\n",
    "              spark\n",
    "              .read\n",
    "              .format(\"parquet\")\n",
    "              .options(header=\"true\")\n",
    "              .options(inferchema=\"true\")\n",
    "              .load(\"abfss://bronze@adlsonlineretailshrey.dfs.core.windows.net/product\")\n",
    ")"
   ]
  },
  {
   "cell_type": "code",
   "execution_count": 0,
   "metadata": {
    "application/vnd.databricks.v1+cell": {
     "cellMetadata": {},
     "inputWidgets": {},
     "nuid": "e5813d32-d61f-4f0c-8397-1170e877f9d8",
     "showTitle": false,
     "tableResultSettingsMap": {},
     "title": ""
    }
   },
   "outputs": [],
   "source": [
    "df_product = df_product.dropDuplicates()"
   ]
  },
  {
   "cell_type": "code",
   "execution_count": 0,
   "metadata": {
    "application/vnd.databricks.v1+cell": {
     "cellMetadata": {},
     "inputWidgets": {},
     "nuid": "176ab773-7d02-46cc-989f-83476f9bb295",
     "showTitle": false,
     "tableResultSettingsMap": {},
     "title": ""
    }
   },
   "outputs": [],
   "source": [
    "df_product.createOrReplaceTempView(\"df_product_stage1\")"
   ]
  },
  {
   "cell_type": "code",
   "execution_count": 0,
   "metadata": {
    "application/vnd.databricks.v1+cell": {
     "cellMetadata": {},
     "inputWidgets": {},
     "nuid": "ce84262d-1118-4bad-8bf0-6ed36a32b95e",
     "showTitle": false,
     "tableResultSettingsMap": {},
     "title": ""
    }
   },
   "outputs": [],
   "source": [
    "%sql\n",
    "use catalog onlineretail;\n",
    "\n",
    "create table if not exists onlineretail.bronze.dim_product(\n",
    "  product_id STRING,\n",
    "  product_name STRING,\n",
    "  category STRING,\n",
    "  brand STRING,\n",
    "  unit_price double,\n",
    "  effective_start_date timestamp,\n",
    "  effective_end_date timestamp,\n",
    "  is_active STRING,\n",
    "  ingested_date timestamp,\n",
    "  last_updated_date timestamp\n",
    ")\n",
    "USING DELTA\n",
    "LOCATION 'abfss://bronze@adlsonlineretailshrey.dfs.core.windows.net/delta/product'"
   ]
  },
  {
   "cell_type": "code",
   "execution_count": 0,
   "metadata": {
    "application/vnd.databricks.v1+cell": {
     "cellMetadata": {},
     "inputWidgets": {},
     "nuid": "e4da56eb-6f18-47e5-b017-e84d11b66313",
     "showTitle": false,
     "tableResultSettingsMap": {},
     "title": ""
    }
   },
   "outputs": [],
   "source": [
    "%sql\n",
    "insert into onlineretail.bronze.dim_product (\n",
    "  product_id,\n",
    "  product_name,\n",
    "  category,\n",
    "  brand,\n",
    "  unit_price,\n",
    "  effective_start_date,\n",
    "  effective_end_date,\n",
    "  is_active,\n",
    "  ingested_date,\n",
    "  last_updated_date\n",
    "  )\n",
    "select \n",
    "product_id,\n",
    "product_name,\n",
    "category,\n",
    "brand,\n",
    "unit_price,\n",
    "effective_start_date,\n",
    "effective_end_date,\n",
    "is_active,\n",
    "current_timestamp(),\n",
    "current_timestamp()\n",
    "from onlineretail.bronze.df_product_stage1"
   ]
  },
  {
   "cell_type": "code",
   "execution_count": 0,
   "metadata": {
    "application/vnd.databricks.v1+cell": {
     "cellMetadata": {},
     "inputWidgets": {},
     "nuid": "bbe4eafe-dee4-400e-aa94-1a744100697d",
     "showTitle": false,
     "tableResultSettingsMap": {},
     "title": ""
    }
   },
   "outputs": [],
   "source": [
    "files = dbutils.fs.ls(\"abfss://bronze@adlsonlineretailshrey.dfs.core.windows.net/product\")\n",
    "\n",
    "for file in files: \n",
    "  filename = file[1]\n",
    "  spark.sql(f\"\"\"\n",
    "  INSERT INTO onlineretail.log.control(PROCESS_NAME,LAYER,TABLE_NAME,STATUS,INGESTED_TIMESTAMP,LAST_UPDATED_TIMESTAMP) values('Ingestion-Product','bronze','dim_product','success',CURRENT_TIMESTAMP(),CURRENT_TIMESTAMP())\"\"\"\n",
    "  )\n",
    "  source = file[0]\n",
    "  destination = f\"abfss://bronze@adlsonlineretailshrey.dfs.core.windows.net/product/archive/{filename}\"\n",
    "  dbutils.fs.mv(source,destination)\n"
   ]
  },
  {
   "cell_type": "code",
   "execution_count": 0,
   "metadata": {
    "application/vnd.databricks.v1+cell": {
     "cellMetadata": {},
     "inputWidgets": {},
     "nuid": "a150e414-391f-43d0-ba5f-36a654da50ba",
     "showTitle": false,
     "tableResultSettingsMap": {},
     "title": ""
    }
   },
   "outputs": [],
   "source": [
    "%sql\n",
    "create table if not exists onlineretail.silver.dim_product(\n",
    "  product_sk bigint generated always as identity,\n",
    "  product_id STRING,\n",
    "  product_name STRING,\n",
    "  category STRING,\n",
    "  brand STRING,\n",
    "  unit_price double,\n",
    "  effective_start_date timestamp,\n",
    "  effective_end_date timestamp,\n",
    "  is_active STRING,\n",
    "  ingested_date timestamp,\n",
    "  last_updated_date timestamp\n",
    ")\n",
    "USING DELTA\n",
    "LOCATION 'abfss://silver@adlsonlineretailshrey.dfs.core.windows.net/delta/product'"
   ]
  },
  {
   "cell_type": "markdown",
   "metadata": {
    "application/vnd.databricks.v1+cell": {
     "cellMetadata": {},
     "inputWidgets": {},
     "nuid": "1364ddbb-7bd6-4351-a8a0-02a54ba3dfd5",
     "showTitle": false,
     "tableResultSettingsMap": {},
     "title": ""
    }
   },
   "source": [
    "SCD Type1"
   ]
  },
  {
   "cell_type": "code",
   "execution_count": 0,
   "metadata": {
    "application/vnd.databricks.v1+cell": {
     "cellMetadata": {},
     "inputWidgets": {},
     "nuid": "f287c6a0-a319-4747-a623-cb2a064e62c3",
     "showTitle": false,
     "tableResultSettingsMap": {},
     "title": ""
    }
   },
   "outputs": [],
   "source": [
    "%sql\n",
    "merge into onlineretail.silver.dim_product as target\n",
    "using onlineretail.bronze.dim_product as source\n",
    "on target.product_id=source.product_id and target.is_active='Y'\n",
    "when matched then update set \n",
    "  target.product_name = source.product_name,\n",
    "  target.category = source.category,\n",
    "  target.brand = source.brand,\n",
    "  target.unit_price = source.unit_price,\n",
    "  target.effective_end_date = current_timestamp(),\n",
    "  target.last_updated_date = current_timestamp()\n",
    "when not matched by target then insert (\n",
    "  product_id,\n",
    "  product_name, \n",
    "  category,\n",
    "  brand,\n",
    "  is_active,\n",
    "  effective_start_date,\n",
    "  effective_end_date,\n",
    "  ingested_date,\n",
    "  last_updated_date\n",
    ") values (\n",
    "  source.product_id,\n",
    "  source.product_name, \n",
    "  source.category,\n",
    "  source.brand,\n",
    "  source.is_active,\n",
    "  source.effective_start_date,\n",
    "  source.effective_end_date,\n",
    "  current_timestamp(),\n",
    "  current_timestamp()) ;"
   ]
  },
  {
   "cell_type": "markdown",
   "metadata": {
    "application/vnd.databricks.v1+cell": {
     "cellMetadata": {},
     "inputWidgets": {},
     "nuid": "660fe3ac-bc2b-439c-b490-a9061d34a862",
     "showTitle": false,
     "tableResultSettingsMap": {},
     "title": ""
    }
   },
   "source": [
    "SCD Type2"
   ]
  },
  {
   "cell_type": "code",
   "execution_count": 0,
   "metadata": {
    "application/vnd.databricks.v1+cell": {
     "cellMetadata": {},
     "inputWidgets": {},
     "nuid": "92370728-117a-4bac-89fc-d572bdd1ba13",
     "showTitle": false,
     "tableResultSettingsMap": {},
     "title": ""
    }
   },
   "outputs": [],
   "source": [
    "%sql\n",
    "--ingest into silver table\n",
    "merge into onlineretail.silver.dim_product as target\n",
    "using onlineretail.bronze.dim_product as source\n",
    "on target.product_id = source.product_id and target.is_active='Y'\n",
    "--case 1: product exists in target table and needs to be updated as inactive\n",
    "when matched then update set \n",
    "  target.is_active = 'N',\n",
    "  target.effective_end_date = current_timestamp(),\n",
    "  target.last_updated_date = current_timestamp()\n",
    "--case 2: product does not exist in target table\n",
    "when not matched by target then \n",
    "insert (product_id,\n",
    "  product_name, \n",
    "  category,\n",
    "  brand,\n",
    "  is_active,\n",
    "  effective_start_date,\n",
    "  effective_end_date,\n",
    "  ingested_date,\n",
    "  last_updated_date\n",
    ") values (\n",
    "  source.product_id,\n",
    "  source.product_name, \n",
    "  source.category,\n",
    "  source.brand,\n",
    "  source.is_active,\n",
    "  source.effective_start_date,\n",
    "  source.effective_end_date,\n",
    "  current_timestamp(),\n",
    "  current_timestamp()\n",
    ");\n",
    "\n",
    "--insert the new row for updated product\n",
    "merge into onlineretail.silver.dim_product as target\n",
    "using onlineretail.bronze.dim_product as source\n",
    "on target.product_id = source.product_id and target.is_active='Y'\n",
    "when not matched by target then \n",
    "insert (product_id,\n",
    "  product_name, \n",
    "  category,\n",
    "  brand,\n",
    "  is_active,\n",
    "  effective_start_date,\n",
    "  effective_end_date,\n",
    "  ingested_date,\n",
    "  last_updated_date\n",
    ") values (\n",
    "  source.product_id,\n",
    "  source.product_name, \n",
    "  source.category,\n",
    "  source.brand,\n",
    "  source.is_active,\n",
    "  source.effective_start_date,\n",
    "  source.effective_end_date,\n",
    "  current_timestamp(),\n",
    "  current_timestamp()\n",
    ");\n"
   ]
  },
  {
   "cell_type": "code",
   "execution_count": 0,
   "metadata": {
    "application/vnd.databricks.v1+cell": {
     "cellMetadata": {},
     "inputWidgets": {},
     "nuid": "48398288-cb76-4e4a-a0f1-d3322c62467b",
     "showTitle": false,
     "tableResultSettingsMap": {},
     "title": ""
    }
   },
   "outputs": [],
   "source": [
    "%sql\n",
    "INSERT INTO onlineretail.log.control(FILE_NAME,PROCESS_NAME,LAYER,TABLE_NAME,STATUS,INGESTED_TIMESTAMP,LAST_UPDATED_TIMESTAMP) values('Ingestion-Product','silver','dim_product','success',CURRENT_TIMESTAMP(),CURRENT_TIMESTAMP())"
   ]
  },
  {
   "cell_type": "code",
   "execution_count": 0,
   "metadata": {
    "application/vnd.databricks.v1+cell": {
     "cellMetadata": {},
     "inputWidgets": {},
     "nuid": "31b8dc23-f47d-42d0-96e0-d26b4a662e1f",
     "showTitle": false,
     "tableResultSettingsMap": {},
     "title": ""
    }
   },
   "outputs": [],
   "source": [
    "%sql\n",
    "INSERT INTO onlineretail.log.control(FILE_NAME,PROCESS_NAME,LAYER,TABLE_NAME,STATUS,INGESTED_TIMESTAMP,LAST_UPDATED_TIMESTAMP) values('Ingestion-Product','gold','dim_product','success',CURRENT_TIMESTAMP(),CURRENT_TIMESTAMP())"
   ]
  },
  {
   "cell_type": "code",
   "execution_count": 0,
   "metadata": {
    "application/vnd.databricks.v1+cell": {
     "cellMetadata": {},
     "inputWidgets": {},
     "nuid": "46f7b5f1-8c43-4e50-a557-8ea287469ad0",
     "showTitle": false,
     "tableResultSettingsMap": {},
     "title": ""
    }
   },
   "outputs": [],
   "source": [
    "%sql\n",
    "use catalog onlineretail;\n",
    "\n",
    "create table if not exists onlineretail.gold.dim_product(\n",
    "  product_sk bigint generated always as identity,\n",
    "  product_id STRING,\n",
    "  product_name STRING,\n",
    "  category STRING,\n",
    "  brand STRING,\n",
    "  unit_price double,\n",
    "  effective_start_date timestamp,\n",
    "  effective_end_date timestamp,\n",
    "  is_active STRING,\n",
    "  ingested_date timestamp,\n",
    "  last_updated_date timestamp\n",
    ")\n",
    "USING DELTA\n",
    "LOCATION 'abfss://gold@adlsonlineretailshrey.dfs.core.windows.net/delta/product'"
   ]
  },
  {
   "cell_type": "code",
   "execution_count": 0,
   "metadata": {
    "application/vnd.databricks.v1+cell": {
     "cellMetadata": {},
     "inputWidgets": {},
     "nuid": "91530c43-46a3-46b5-854b-1a01abc62d68",
     "showTitle": false,
     "tableResultSettingsMap": {},
     "title": ""
    }
   },
   "outputs": [],
   "source": [
    "%sql\n",
    "merge into onlineretail.gold.dim_product as target\n",
    "using onlineretail.silver.dim_product as source\n",
    "on target.product_id = source.product_id and target.is_active='Y'\n",
    "when matched then update set \n",
    "  target.product_name = source.product_name,\n",
    "  target.category = source.category,\n",
    "  target.brand = source.brand,\n",
    "  target.unit_price = source.unit_price,\n",
    "  target.effective_start_date = current_timestamp(),\n",
    "  target.effective_end_date = NULL,\n",
    "  target.ingested_date = current_timestamp(),\n",
    "  target.last_updated_date = current_timestamp()\n",
    "when not matched by target then insert (\n",
    "  product_id,\n",
    "  product_name, \n",
    "  category,\n",
    "  brand,\n",
    "  is_active,\n",
    "  effective_start_date,\n",
    "  ingested_date,\n",
    "  last_updated_date\n",
    ") values (\n",
    "  source.product_id,\n",
    "  source.product_name, \n",
    "  source.category,\n",
    "  source.brand,\n",
    "  source.is_active,\n",
    "  source.effective_start_date,\n",
    "  current_timestamp(),\n",
    "  current_timestamp()\n",
    ");"
   ]
  },
  {
   "cell_type": "code",
   "execution_count": 0,
   "metadata": {
    "application/vnd.databricks.v1+cell": {
     "cellMetadata": {},
     "inputWidgets": {},
     "nuid": "96d6d9c4-3998-47f3-98f0-32d5a88306fd",
     "showTitle": false,
     "tableResultSettingsMap": {},
     "title": ""
    }
   },
   "outputs": [],
   "source": [
    "%sql\n",
    "INSERT INTO onlineretail.log.control(FILE_NAME,PROCESS_NAME,LAYER,TABLE_NAME,STATUS,INGESTED_TIMESTAMP,LAST_UPDATED_TIMESTAMP) values('Ingestion-Customer','gold','dim_product','success',CURRENT_TIMESTAMP(),CURRENT_TIMESTAMP())"
   ]
  },
  {
   "cell_type": "markdown",
   "metadata": {
    "application/vnd.databricks.v1+cell": {
     "cellMetadata": {},
     "inputWidgets": {},
     "nuid": "ab3986cf-333e-46e4-902e-d5ea1e4dcb3d",
     "showTitle": false,
     "tableResultSettingsMap": {},
     "title": ""
    }
   },
   "source": [
    "Sales"
   ]
  },
  {
   "cell_type": "code",
   "execution_count": 0,
   "metadata": {
    "application/vnd.databricks.v1+cell": {
     "cellMetadata": {},
     "inputWidgets": {},
     "nuid": "8bb08273-7d7d-4cf8-b727-10dfc881a88c",
     "showTitle": false,
     "tableResultSettingsMap": {},
     "title": ""
    }
   },
   "outputs": [],
   "source": [
    "df_sales = (\n",
    "              spark\n",
    "              .read\n",
    "              .format(\"parquet\")\n",
    "              .options(header=\"true\")\n",
    "              .options(inferchema=\"true\")\n",
    "              .load(\"abfss://bronze@adlsonlineretailshrey.dfs.core.windows.net/sales\")\n",
    ")"
   ]
  },
  {
   "cell_type": "code",
   "execution_count": 0,
   "metadata": {
    "application/vnd.databricks.v1+cell": {
     "cellMetadata": {},
     "inputWidgets": {},
     "nuid": "9e5dcce5-12bd-4ee3-bfb7-6e0af6f7fcb1",
     "showTitle": false,
     "tableResultSettingsMap": {},
     "title": ""
    }
   },
   "outputs": [],
   "source": [
    "df_sales = df_sales.dropDuplicates()"
   ]
  },
  {
   "cell_type": "code",
   "execution_count": 0,
   "metadata": {
    "application/vnd.databricks.v1+cell": {
     "cellMetadata": {},
     "inputWidgets": {},
     "nuid": "3e477ed8-27de-41e0-b34a-f79321d883b1",
     "showTitle": false,
     "tableResultSettingsMap": {},
     "title": ""
    }
   },
   "outputs": [],
   "source": [
    "df_sales.createOrReplaceTempView(\"df_sales_stage1\")"
   ]
  },
  {
   "cell_type": "code",
   "execution_count": 0,
   "metadata": {
    "application/vnd.databricks.v1+cell": {
     "cellMetadata": {},
     "inputWidgets": {},
     "nuid": "cde77e1a-7d25-4f0e-a34e-3220d93f66b1",
     "showTitle": false,
     "tableResultSettingsMap": {},
     "title": ""
    }
   },
   "outputs": [],
   "source": [
    "%sql\n",
    "use catalog onlineretail;\n",
    "create table if not exists onlineretail.bronze.fact_sales(\n",
    "  transaction_id string,\n",
    "  transaction_date string,\n",
    "  customer_id string,\n",
    "  store_id string,\n",
    "  rep_id string,\n",
    "  product_id string,\n",
    "  quantity int,\n",
    "  unit_price double,\n",
    "  total_amount double,\n",
    "  payment_mode string,\n",
    "  status string,\n",
    "  ingested_date timestamp,\n",
    "  last_updated_date timestamp\n",
    ")\n",
    "USING DELTA\n",
    "LOCATION 'abfss://bronze@adlsonlineretailshrey.dfs.core.windows.net/delta/sales'"
   ]
  },
  {
   "cell_type": "code",
   "execution_count": 0,
   "metadata": {
    "application/vnd.databricks.v1+cell": {
     "cellMetadata": {},
     "inputWidgets": {},
     "nuid": "5c72fb74-d806-4ff8-aa5f-29e31cd56154",
     "showTitle": false,
     "tableResultSettingsMap": {},
     "title": ""
    }
   },
   "outputs": [],
   "source": [
    "%sql\n",
    "insert into onlineretail.bronze.fact_sales (\n",
    "  transaction_id,\n",
    "  transaction_date,\n",
    "  customer_id,\n",
    "  store_id,\n",
    "  rep_id,\n",
    "  product_id,\n",
    "  quantity,\n",
    "  unit_price,\n",
    "  total_amount,\n",
    "  payment_mode,\n",
    "  status,\n",
    "  ingested_date,\n",
    "  last_updated_date\n",
    ")\n",
    "select \n",
    "transaction_id,\n",
    "transaction_date,\n",
    "customer_id,\n",
    "store_id,\n",
    "rep_id,\n",
    "product_id,\n",
    "quantity,\n",
    "unit_price, \n",
    "total_amount,\n",
    "payment_mode,\n",
    "status,\n",
    "current_timestamp(),\n",
    "current_timestamp()\n",
    "from df_sales_stage1;"
   ]
  },
  {
   "cell_type": "code",
   "execution_count": 0,
   "metadata": {
    "application/vnd.databricks.v1+cell": {
     "cellMetadata": {},
     "inputWidgets": {},
     "nuid": "7153e047-a75e-4d75-ae86-e5074d4d1eb7",
     "showTitle": false,
     "tableResultSettingsMap": {},
     "title": ""
    }
   },
   "outputs": [],
   "source": [
    "%sql\n",
    "create or replace temp view vw_sales_aggregated as \n",
    "SELECT\n",
    "    transaction_id,\n",
    "    product_id,\n",
    "    customer_id,\n",
    "    store_id,\n",
    "    rep_id,\n",
    "    payment_mode,\n",
    "    SUM(quantity) AS total_quantity,\n",
    "    SUM(total_amount) AS total_amount,\n",
    "    FIRST(status) OVER (PARTITION BY transaction_id, product_id ORDER BY transaction_date DESC) AS latest_status\n",
    "FROM onlineretail.bronze.fact_sales\n",
    "GROUP BY\n",
    "    transaction_id, product_id, customer_id, store_id, rep_id, payment_mode;"
   ]
  },
  {
   "cell_type": "code",
   "execution_count": 0,
   "metadata": {
    "application/vnd.databricks.v1+cell": {
     "cellMetadata": {},
     "inputWidgets": {},
     "nuid": "c810c974-17f8-4773-880b-f9357a7ebdc2",
     "showTitle": false,
     "tableResultSettingsMap": {},
     "title": ""
    }
   },
   "outputs": [],
   "source": [
    "%sql\n",
    "use catalog onlineretail;\n",
    "\n",
    "create table if not exists onlineretail.silver.fact_sales(\n",
    "  transaction_sk bigint generated always as identity,\n",
    "  transaction_id string,\n",
    "  transaction_date string,\n",
    "  customer_id string,\n",
    "  store_id string,\n",
    "  rep_id string,\n",
    "  product_id string,\n",
    "  original_quantity int,\n",
    "  unit_price double,\n",
    "  original_amount double,\n",
    "  net_quantity int,\n",
    "  net_amount double,\n",
    "  payment_mode string,\n",
    "  status string,\n",
    "  ingested_date timestamp,\n",
    "  last_updated_date timestamp\n",
    ")"
   ]
  },
  {
   "cell_type": "markdown",
   "metadata": {
    "application/vnd.databricks.v1+cell": {
     "cellMetadata": {},
     "inputWidgets": {},
     "nuid": "2faaef53-486c-4d5a-b4c5-a129d09de25a",
     "showTitle": false,
     "tableResultSettingsMap": {},
     "title": ""
    }
   },
   "source": [
    "SCD Type1"
   ]
  },
  {
   "cell_type": "code",
   "execution_count": 0,
   "metadata": {
    "application/vnd.databricks.v1+cell": {
     "cellMetadata": {},
     "inputWidgets": {},
     "nuid": "2531ea3a-d7b1-4111-b8a2-769a3b70298d",
     "showTitle": false,
     "tableResultSettingsMap": {},
     "title": ""
    }
   },
   "outputs": [],
   "source": [
    "%sql\n",
    "merge into onlineretail.silver.fact_sales as target\n",
    "using onlineretail.bronze.vw_sales_aggregate as source\n",
    "on target.transaction_id = source.transaction_id and target.product_id=source.product_id\n",
    "when matched then update set\n",
    "target.net_quantity = target.net_quantity - source.total_quantity,\n",
    "target.net_amount = target.net_amount - source.total_amount,\n",
    "target.status = source.latest_status,\n",
    "target.last_updated_date = current_timestamp()\n",
    "when not matched by target then insert \n",
    "(\n",
    "  transaction_id,\n",
    "  transaction_date, \n",
    "  customer_id,\n",
    "  store_id,\n",
    "  rep_id,\n",
    "  product_id,\n",
    "  original_quantity,\n",
    "  unit_price,\n",
    "  original_amount,\n",
    "  net_quantity,\n",
    "  net_amount,\n",
    "  payment_mode,\n",
    "  status,\n",
    "  ingested_date,\n",
    "  last_updated_date\n",
    ")\n",
    "values (\n",
    "  source.transaction_id,\n",
    "  source.transaction_date, \n",
    "  source.customer_id,\n",
    "  source.store_id,\n",
    "  source.rep_id,\n",
    "  source.product_id,\n",
    "  source.total_quantity,\n",
    "  source.unit_price,\n",
    "  source.total_amount,\n",
    "  source.total_quantity,\n",
    "  source.total_amount,\n",
    "  source.payment_mode,\n",
    "  source.latest_status,\n",
    "  current_timestamp(),\n",
    "  current_timestamp()\n",
    ")"
   ]
  },
  {
   "cell_type": "code",
   "execution_count": 0,
   "metadata": {
    "application/vnd.databricks.v1+cell": {
     "cellMetadata": {},
     "inputWidgets": {},
     "nuid": "f9f1b9be-908f-4aa4-94fb-ec5f7bf19570",
     "showTitle": false,
     "tableResultSettingsMap": {},
     "title": ""
    }
   },
   "outputs": [],
   "source": [
    "%sql\n",
    "INSERT INTO onlineretail.log.control(FILE_NAME,PROCESS_NAME,LAYER,TABLE_NAME,STATUS,INGESTED_TIMESTAMP,LAST_UPDATED_TIMESTAMP) values('Ingestion-Sales','silver','fact_sales','success',CURRENT_TIMESTAMP(),CURRENT_TIMESTAMP())"
   ]
  },
  {
   "cell_type": "code",
   "execution_count": 0,
   "metadata": {
    "application/vnd.databricks.v1+cell": {
     "cellMetadata": {},
     "inputWidgets": {},
     "nuid": "faa65661-5aee-4bfd-94a3-662a82d64628",
     "showTitle": false,
     "tableResultSettingsMap": {},
     "title": ""
    }
   },
   "outputs": [],
   "source": [
    "%sql\n",
    "use catalog onlineretail;\n",
    "create table if not exists onlineretail.gold.sales_summary(\n",
    "    sales_date date,\n",
    "    store_id string,\n",
    "    total_sales double,\n",
    "    total_refunds double,\n",
    "    net_sales double,\n",
    "    total_quantity int,\n",
    "    transaction_count bigint,\n",
    "    avg_selling_price double,\n",
    "    refund_rate double\n",
    ")\n",
    "using delta\n",
    "location \"abfss://gold@adlsonlineretailshrey.dfs.core.windows.net/delta/sales_summary\"\n"
   ]
  },
  {
   "cell_type": "code",
   "execution_count": 0,
   "metadata": {
    "application/vnd.databricks.v1+cell": {
     "cellMetadata": {},
     "inputWidgets": {},
     "nuid": "7bb4cae4-f123-415b-90d6-3ce95f8d970e",
     "showTitle": false,
     "tableResultSettingsMap": {},
     "title": ""
    }
   },
   "outputs": [],
   "source": [
    "%sql\n",
    "INSERT INTO onlineretail.gold.sales_summary\n",
    "SELECT\n",
    "    DATE(transaction_date) AS sales_date,\n",
    "    store_id,\n",
    "    SUM(original_amount) AS total_sales,\n",
    "    SUM(original_amount - net_amount) AS total_refunds,\n",
    "    SUM(net_amount) AS net_sales,\n",
    "    SUM(net_quantity) AS total_quantity,\n",
    "    COUNT(DISTINCT transaction_id) AS transaction_count,\n",
    "    CASE WHEN SUM(net_quantity) > 0 THEN SUM(net_amount)/SUM(net_quantity) ELSE 0 END AS avg_selling_price,\n",
    "    CASE WHEN SUM(original_amount) > 0 THEN (SUM(original_amount - net_amount)/SUM(original_amount))*100 ELSE 0 END AS refund_rate\n",
    "FROM onlineretail.silver.fact_sales\n",
    "GROUP BY DATE(transaction_date), store_id;\n"
   ]
  },
  {
   "cell_type": "code",
   "execution_count": 0,
   "metadata": {
    "application/vnd.databricks.v1+cell": {
     "cellMetadata": {},
     "inputWidgets": {},
     "nuid": "e42ea308-10fc-421c-b1be-d7642f54ea29",
     "showTitle": false,
     "tableResultSettingsMap": {},
     "title": ""
    }
   },
   "outputs": [],
   "source": [
    "%sql\n",
    "INSERT INTO onlineretail.log.control(FILE_NAME,PROCESS_NAME,LAYER,TABLE_NAME,STATUS,INGESTED_TIMESTAMP,LAST_UPDATED_TIMESTAMP) values('Ingestion-Sales','gold','sales_summary','success',CURRENT_TIMESTAMP(),CURRENT_TIMESTAMP())"
   ]
  }
 ],
 "metadata": {
  "application/vnd.databricks.v1+notebook": {
   "computePreferences": {
    "hardware": {
     "accelerator": null,
     "gpuPoolId": null,
     "memory": null
    }
   },
   "dashboards": [],
   "environmentMetadata": {
    "base_environment": "",
    "environment_version": "4"
   },
   "inputWidgetPreferences": null,
   "language": "python",
   "notebookMetadata": {
    "mostRecentlyExecutedCommandWithImplicitDF": {
     "commandId": 6959018314278204,
     "dataframes": [
      "_sqldf"
     ]
    },
    "pythonIndentUnit": 4
   },
   "notebookName": "1. Transform",
   "widgets": {}
  },
  "language_info": {
   "name": "python"
  }
 },
 "nbformat": 4,
 "nbformat_minor": 0
}